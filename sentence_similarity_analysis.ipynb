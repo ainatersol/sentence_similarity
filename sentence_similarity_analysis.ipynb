{
 "cells": [
  {
   "cell_type": "markdown",
   "id": "273dac61",
   "metadata": {},
   "source": [
    "# Text Comparison Metrics for Modification Detection\n",
    "\n",
    "In this notebook, we will explore various metrics to detect and quantify text modifications. These algorithms, born out of the field of Natural Language Processing (NLP) and Machine Learning, can help us understand the degree of similarity or difference between two pieces of text.\n",
    "\n",
    "Below are the metrics we will be covering:\n",
    "\n",
    "1. **Edit Distance (Levenshtein Distance)**: This algorithm computes the minimum number of operations (insertions, deletions, substitutions) required to transform one string into another. \n",
    "\n",
    "2. **Cosine Similarity**: This measure calculates the cosine of the angle between two vectors representing the texts. A cosine value close to 1 implies high similarity. This is often used in combination with TF-IDF or word embeddings. Read more [here](https://en.wikipedia.org/wiki/Cosine_similarity).\n",
    "\n",
    "3. **Jaccard Similarity**: Defined as the size of the intersection divided by the size of the union of the sample sets. It is commonly used to compare the similarity and diversity of sample sets. For more information, refer to [this link](https://en.wikipedia.org/wiki/Jaccard_index).\n",
    "\n",
    "4. **BLEU (Bilingual Evaluation Understudy)**: Initially designed for evaluating machine translation, BLEU can be used for general text comparison. You can read the original [BLEU paper here](https://www.aclweb.org/anthology/P02-1040.pdf).\n",
    "\n",
    "5. **ROUGE (Recall-Oriented Understudy for Gisting Evaluation)**: ROUGE is a set of metrics used for evaluating automatic summarization and machine translation. Read the [original paper](https://www.aclweb.org/anthology/W04-1013.pdf) for more insights.\n",
    "\n",
    "6. **Word Mover's Distance (WMD)**: WMD uses word embeddings to calculate the \"distance\" between two documents. This is described in detail in the [original WMD paper](http://proceedings.mlr.press/v37/kusnerb15.pdf).\n",
    "\n",
    "7. **Semantic Similarity Measures** using transformer models: Models such as BERT, RoBERTa, and others can be used to compute a semantic similarity score between two texts. The [BERT paper](https://arxiv.org/abs/1810.04805) is a good starting point for understanding these models.\n",
    "\n",
    "Each of these metrics has its strengths and weaknesses, and the choice depends on the specific requirements of the task at hand. In the upcoming sections of this notebook, we will delve deeper into each of these methods, understand their implementation, and interpret their results. Let's get started!"
   ]
  },
  {
   "cell_type": "code",
   "execution_count": 1,
   "id": "abe1510b",
   "metadata": {
    "scrolled": true
   },
   "outputs": [
    {
     "name": "stdout",
     "output_type": "stream",
     "text": [
      "Requirement already satisfied: sentence-transformers in /Users/aina/opt/anaconda3/lib/python3.9/site-packages (2.2.2)\n",
      "Requirement already satisfied: scikit-learn in /Users/aina/opt/anaconda3/lib/python3.9/site-packages (from sentence-transformers) (1.2.0)\n",
      "Requirement already satisfied: torchvision in /Users/aina/opt/anaconda3/lib/python3.9/site-packages (from sentence-transformers) (0.14.1)\n",
      "Requirement already satisfied: sentencepiece in /Users/aina/opt/anaconda3/lib/python3.9/site-packages (from sentence-transformers) (0.1.99)\n",
      "Requirement already satisfied: tqdm in /Users/aina/opt/anaconda3/lib/python3.9/site-packages (from sentence-transformers) (4.62.3)\n",
      "Requirement already satisfied: nltk in /Users/aina/opt/anaconda3/lib/python3.9/site-packages (from sentence-transformers) (3.6.5)\n",
      "Requirement already satisfied: numpy in /Users/aina/opt/anaconda3/lib/python3.9/site-packages (from sentence-transformers) (1.20.3)\n",
      "Requirement already satisfied: transformers<5.0.0,>=4.6.0 in /Users/aina/opt/anaconda3/lib/python3.9/site-packages (from sentence-transformers) (4.28.1)\n",
      "Requirement already satisfied: torch>=1.6.0 in /Users/aina/opt/anaconda3/lib/python3.9/site-packages (from sentence-transformers) (1.13.1)\n",
      "Requirement already satisfied: huggingface-hub>=0.4.0 in /Users/aina/opt/anaconda3/lib/python3.9/site-packages (from sentence-transformers) (0.13.4)\n",
      "Requirement already satisfied: scipy in /Users/aina/opt/anaconda3/lib/python3.9/site-packages (from sentence-transformers) (1.7.1)\n",
      "Requirement already satisfied: pyyaml>=5.1 in /Users/aina/opt/anaconda3/lib/python3.9/site-packages (from huggingface-hub>=0.4.0->sentence-transformers) (6.0)\n",
      "Requirement already satisfied: packaging>=20.9 in /Users/aina/opt/anaconda3/lib/python3.9/site-packages (from huggingface-hub>=0.4.0->sentence-transformers) (21.0)\n",
      "Requirement already satisfied: typing-extensions>=3.7.4.3 in /Users/aina/opt/anaconda3/lib/python3.9/site-packages (from huggingface-hub>=0.4.0->sentence-transformers) (4.6.3)\n",
      "Requirement already satisfied: filelock in /Users/aina/opt/anaconda3/lib/python3.9/site-packages (from huggingface-hub>=0.4.0->sentence-transformers) (3.3.1)\n",
      "Requirement already satisfied: requests in /Users/aina/opt/anaconda3/lib/python3.9/site-packages (from huggingface-hub>=0.4.0->sentence-transformers) (2.26.0)\n",
      "Requirement already satisfied: pyparsing>=2.0.2 in /Users/aina/opt/anaconda3/lib/python3.9/site-packages (from packaging>=20.9->huggingface-hub>=0.4.0->sentence-transformers) (3.0.4)\n",
      "Requirement already satisfied: tokenizers!=0.11.3,<0.14,>=0.11.1 in /Users/aina/opt/anaconda3/lib/python3.9/site-packages (from transformers<5.0.0,>=4.6.0->sentence-transformers) (0.13.3)\n",
      "Requirement already satisfied: regex!=2019.12.17 in /Users/aina/opt/anaconda3/lib/python3.9/site-packages (from transformers<5.0.0,>=4.6.0->sentence-transformers) (2021.8.3)\n",
      "Requirement already satisfied: click in /Users/aina/opt/anaconda3/lib/python3.9/site-packages (from nltk->sentence-transformers) (8.0.3)\n",
      "Requirement already satisfied: joblib in /Users/aina/opt/anaconda3/lib/python3.9/site-packages (from nltk->sentence-transformers) (1.2.0)\n",
      "Requirement already satisfied: certifi>=2017.4.17 in /Users/aina/opt/anaconda3/lib/python3.9/site-packages (from requests->huggingface-hub>=0.4.0->sentence-transformers) (2021.10.8)\n",
      "Requirement already satisfied: urllib3<1.27,>=1.21.1 in /Users/aina/opt/anaconda3/lib/python3.9/site-packages (from requests->huggingface-hub>=0.4.0->sentence-transformers) (1.26.7)\n",
      "Requirement already satisfied: charset-normalizer~=2.0.0 in /Users/aina/opt/anaconda3/lib/python3.9/site-packages (from requests->huggingface-hub>=0.4.0->sentence-transformers) (2.0.4)\n",
      "Requirement already satisfied: idna<4,>=2.5 in /Users/aina/opt/anaconda3/lib/python3.9/site-packages (from requests->huggingface-hub>=0.4.0->sentence-transformers) (3.2)\n",
      "Requirement already satisfied: threadpoolctl>=2.0.0 in /Users/aina/opt/anaconda3/lib/python3.9/site-packages (from scikit-learn->sentence-transformers) (2.2.0)\n",
      "Requirement already satisfied: pillow!=8.3.*,>=5.3.0 in /Users/aina/opt/anaconda3/lib/python3.9/site-packages (from torchvision->sentence-transformers) (8.4.0)\n",
      "Requirement already satisfied: tensorflow_hub in /Users/aina/opt/anaconda3/lib/python3.9/site-packages (0.13.0)\n",
      "Requirement already satisfied: protobuf>=3.19.6 in /Users/aina/opt/anaconda3/lib/python3.9/site-packages (from tensorflow_hub) (3.19.6)\n",
      "Requirement already satisfied: numpy>=1.12.0 in /Users/aina/opt/anaconda3/lib/python3.9/site-packages (from tensorflow_hub) (1.20.3)\n"
     ]
    }
   ],
   "source": [
    "!pip install sentence-transformers\n",
    "\n",
    "!pip install tensorflow_hub"
   ]
  },
  {
   "cell_type": "code",
   "execution_count": 2,
   "id": "8bac6eee",
   "metadata": {},
   "outputs": [
    {
     "name": "stderr",
     "output_type": "stream",
     "text": [
      "2023-06-09 21:50:28.921134: I tensorflow/core/platform/cpu_feature_guard.cc:193] This TensorFlow binary is optimized with oneAPI Deep Neural Network Library (oneDNN) to use the following CPU instructions in performance-critical operations:  AVX2 FMA\n",
      "To enable them in other operations, rebuild TensorFlow with the appropriate compiler flags.\n"
     ]
    }
   ],
   "source": [
    "import pandas as pd\n",
    "import string\n",
    "from nltk.corpus import stopwords\n",
    "\n",
    "from sentence_transformers import SentenceTransformer\n",
    "from sklearn.metrics.pairwise import cosine_similarity\n",
    "\n",
    "import tensorflow_hub as hub\n",
    "from sklearn.metrics.pairwise import cosine_similarity\n",
    "\n",
    "from nltk.translate.bleu_score import sentence_bleu\n",
    "\n",
    "import time "
   ]
  },
  {
   "cell_type": "code",
   "execution_count": 3,
   "id": "c44207cb",
   "metadata": {},
   "outputs": [],
   "source": [
    "text1 = \"Aina eats potatoes in the garden\"\n",
    "text2 = \"Aina likes potatoes\""
   ]
  },
  {
   "cell_type": "markdown",
   "id": "e12d42df",
   "metadata": {},
   "source": [
    "## Text Cleaning "
   ]
  },
  {
   "cell_type": "code",
   "execution_count": 4,
   "id": "897ccc6b",
   "metadata": {},
   "outputs": [],
   "source": [
    "def remove_punctuations(txt, punct = set(string.punctuation)):\n",
    "    '''\n",
    "    Removes punctuations from a given text.\n",
    "    \n",
    "    Parameters\n",
    "    ----------\n",
    "    txt : str\n",
    "        The input text from which punctuations are to be removed.\n",
    "    punct : set, optional\n",
    "        The set of punctuation characters to be removed. Default is all punctuation characters.\n",
    "    \n",
    "    Returns\n",
    "    -------\n",
    "    str\n",
    "        The input text with all specified punctuation characters removed.\n",
    "    '''\n",
    "    return ''.join([c for c in txt.lower() if c not in punct])\n",
    "\n",
    "  \n",
    "def remove_stopwords(txt, sw = set(stopwords.words('english'))):\n",
    "    '''\n",
    "    Removes stopwords from a given text.\n",
    "    \n",
    "    Parameters\n",
    "    ----------\n",
    "    txt : str\n",
    "        The input text from which stopwords are to be removed.\n",
    "    sw : set, optional\n",
    "        The set of stopwords to be removed. Default is English stopwords from NLTK corpus.\n",
    "    \n",
    "    Returns\n",
    "    -------\n",
    "    str\n",
    "        The input text with all specified stopwords removed.\n",
    "    '''\n",
    "    return ' '.join([w for w in txt.split() if w not in sw])\n",
    "\n",
    "\n",
    "def clean_text(txt):\n",
    "    '''\n",
    "    Cleans a given text by removing specific line feed characters, punctuations and stopwords.\n",
    "    \n",
    "    Parameters\n",
    "    ----------\n",
    "    txt : str\n",
    "        The input text to be cleaned.\n",
    "    \n",
    "    Returns\n",
    "    -------\n",
    "    str\n",
    "        The cleaned text, with line feed characters, punctuations and stopwords removed and converted to lowercase.\n",
    "    '''\n",
    "    txt = txt.replace('\\n', ' ').replace('\\r', ' ').replace('\\'', '')\n",
    "    txt = remove_punctuations(txt)\n",
    "    txt = remove_stopwords(txt)\n",
    "    return txt\n",
    "\n",
    "def cleaning_pipeline(txt):\n",
    "    \n",
    "    txt = remove_punctuations(txt)\n",
    "    txt = remove_stopwords(txt)\n",
    "    txt = clean_text(txt)\n",
    "    return txt"
   ]
  },
  {
   "cell_type": "markdown",
   "id": "2561a82d",
   "metadata": {},
   "source": [
    "## 1. Levensthein distance"
   ]
  },
  {
   "attachments": {
    "Screenshot%202023-06-02%20at%208.16.26%20AM.png": {
     "image/png": "[encoded data removed]"
    }
   },
   "cell_type": "markdown",
   "id": "6ada0ed9",
   "metadata": {},
   "source": [
    "![Screenshot%202023-06-02%20at%208.16.26%20AM.png](attachment:Screenshot%202023-06-02%20at%208.16.26%20AM.png)"
   ]
  },
  {
   "cell_type": "code",
   "execution_count": 5,
   "id": "c7e49a46",
   "metadata": {},
   "outputs": [],
   "source": [
    "def direct_lev(a, b):\n",
    "    \"\"\"\n",
    "    Calculates the Levenshtein distance between two strings.\n",
    "    This is the minimum number of single-character edits (insertions, deletions, or substitutions)\n",
    "    required to change string 'a' into string 'b'.\n",
    "    \n",
    "    Parameters\n",
    "    ----------\n",
    "    a : str\n",
    "        The first string to compare.\n",
    "    b : str\n",
    "        The second string to compare.\n",
    "    \n",
    "    Returns\n",
    "    -------\n",
    "    int\n",
    "        The Levenshtein distance between 'a' and 'b'.\n",
    "    \"\"\"\n",
    "    \n",
    "    if len(b) == 0:\n",
    "        return len(a)\n",
    "    elif len(a) == 0:\n",
    "        return len(b)\n",
    "    elif a[0] == b[0]:\n",
    "        return lev(a[1:],b[1:])\n",
    "    else:\n",
    "        return 1 + min([lev(a[1:], b), lev(a, b[1:]), lev(a[1:], b[1:])])\n",
    "    \n",
    "\n",
    "def lev(a, b):\n",
    "    \"\"\"\n",
    "    Calculates the Levenshtein distance between two strings.\n",
    "    This is the minimum number of single-character edits (insertions, deletions, or substitutions)\n",
    "    required to change string 'a' into string 'b'.\n",
    "    \n",
    "    Parameters\n",
    "    ----------\n",
    "    a : str\n",
    "        The first string to compare.\n",
    "    b : str\n",
    "        The second string to compare.\n",
    "    \n",
    "    Returns\n",
    "    -------\n",
    "    int\n",
    "        The Levenshtein distance between 'a' and 'b'.\n",
    "    \"\"\"\n",
    "    size_x = len(a) + 1\n",
    "    size_y = len(b) + 1\n",
    "    matrix = [[0] * size_y for _ in range(size_x)]\n",
    "    for x in range(size_x):\n",
    "        matrix [x][0] = x\n",
    "    for y in range(size_y):\n",
    "        matrix [0][y] = y\n",
    "\n",
    "    for x in range(1, size_x):\n",
    "        for y in range(1, size_y):\n",
    "            if a[x-1] == b[y-1]:\n",
    "                matrix [x][y] = min(\n",
    "                    matrix[x-1][y] + 1,\n",
    "                    matrix[x-1][y-1],\n",
    "                    matrix[x][y-1] + 1\n",
    "                )\n",
    "            else:\n",
    "                matrix [x][y] = min(\n",
    "                    matrix[x-1][y] + 1,\n",
    "                    matrix[x-1][y-1] + 1,\n",
    "                    matrix[x][y-1] + 1\n",
    "                )\n",
    "    return (matrix[size_x - 1][size_y - 1])\n",
    "\n",
    "\n",
    "def lev_similarity(a, b):\n",
    "    n_changes = lev(a, b)\n",
    "    return n_changes/max([len(a), len(b)])"
   ]
  },
  {
   "cell_type": "code",
   "execution_count": 6,
   "id": "f9d17648",
   "metadata": {},
   "outputs": [
    {
     "data": {
      "text/plain": [
       "0.5625"
      ]
     },
     "execution_count": 6,
     "metadata": {},
     "output_type": "execute_result"
    }
   ],
   "source": [
    "lev_similarity(text1, text2)"
   ]
  },
  {
   "cell_type": "markdown",
   "id": "877fe7af",
   "metadata": {},
   "source": [
    "## 2. Cosine similarity\n"
   ]
  },
  {
   "cell_type": "code",
   "execution_count": 7,
   "id": "6c302788",
   "metadata": {
    "scrolled": true
   },
   "outputs": [],
   "source": [
    "# model = SentenceTransformer('all-mpnet-base-v2')\n",
    "\n",
    "# # Generate embeddings for two example sentences\n",
    "# embeddings = model.encode([text1, text2])\n",
    "\n",
    "# # Compute cosine similarity\n",
    "# similarity = cosine_similarity(\n",
    "#     embeddings[0].reshape(1, -1), \n",
    "#     embeddings[1].reshape(1, -1)\n",
    "#     )[0][0]\n"
   ]
  },
  {
   "cell_type": "code",
   "execution_count": null,
   "id": "79bf32c4",
   "metadata": {},
   "outputs": [
    {
     "name": "stderr",
     "output_type": "stream",
     "text": [
      "2023-06-09 21:50:37.980132: I tensorflow/core/platform/cpu_feature_guard.cc:193] This TensorFlow binary is optimized with oneAPI Deep Neural Network Library (oneDNN) to use the following CPU instructions in performance-critical operations:  AVX2 FMA\n",
      "To enable them in other operations, rebuild TensorFlow with the appropriate compiler flags.\n"
     ]
    }
   ],
   "source": [
    "# Load the Universal Sentence Encoder's TF Hub module\n",
    "embed = hub.load(\"https://tfhub.dev/google/universal-sentence-encoder/4\")\n",
    "\n",
    "def embedding_cosine_similarity(a, b):\n",
    "    \n",
    "    embeddings = embed([a, b])\n",
    "    return cosine_similarity(embeddings[0:1], embeddings[1:2])[0][0]\n"
   ]
  },
  {
   "cell_type": "code",
   "execution_count": null,
   "id": "43501b0f",
   "metadata": {},
   "outputs": [],
   "source": [
    "embedding_cosine_similarity(text1, text2)"
   ]
  },
  {
   "cell_type": "markdown",
   "id": "ebc5e7c9",
   "metadata": {},
   "source": [
    "## 2. Jaccard"
   ]
  },
  {
   "cell_type": "code",
   "execution_count": null,
   "id": "91be1791",
   "metadata": {},
   "outputs": [],
   "source": [
    "def jaccard_similarity(a, b):\n",
    "    \"\"\"Calculate the Jaccard Similarity between two sentences.\"\"\"\n",
    "    set1 = set(a.split())\n",
    "    set2 = set(b.split())\n",
    "    intersection = len(set1.intersection(set2))\n",
    "    union = len(set1.union(set2))\n",
    "    return intersection / union"
   ]
  },
  {
   "cell_type": "code",
   "execution_count": null,
   "id": "f7b29b8b",
   "metadata": {},
   "outputs": [],
   "source": [
    "jaccard_similarity(text1, text2)"
   ]
  },
  {
   "cell_type": "markdown",
   "id": "f23ae1af",
   "metadata": {},
   "source": [
    "## 3. BLEU"
   ]
  },
  {
   "cell_type": "code",
   "execution_count": null,
   "id": "6fae3ca1",
   "metadata": {},
   "outputs": [],
   "source": [
    "# modified n-gram precision\n",
    "sentence_bleu([text1.split()], text2.split())"
   ]
  },
  {
   "cell_type": "markdown",
   "id": "ce258e09",
   "metadata": {},
   "source": [
    "## 4. Sentence embedding: BERT"
   ]
  },
  {
   "cell_type": "code",
   "execution_count": null,
   "id": "02637624",
   "metadata": {},
   "outputs": [],
   "source": [
    "# from transformers import BertModel, BertTokenizer\n",
    "# import torch\n",
    "# from scipy.spatial.distance import cosine\n",
    "\n",
    "# tokenizer = BertTokenizer.from_pretrained('bert-base-uncased')\n",
    "# model = BertModel.from_pretrained('bert-base-uncased')\n",
    "\n",
    "# def embedding_sentence_similarity(a, b):\n",
    "    \n",
    "#     inputs_a = tokenizer(a, return_tensors='pt')\n",
    "#     inputs_b = tokenizer(b, return_tensors='pt')\n",
    "    \n",
    "#     with torch.no_grad():\n",
    "#         outputs_a = model(**inputs_a)\n",
    "#         outputs_b = model(**inputs_b)\n",
    "        \n",
    "#     embedding_a = outputs_a.last_hidden_state[0, 0, :].numpy()\n",
    "#     embedding_b = outputs_b.last_hidden_state[0, 0, :].numpy()\n",
    "    \n",
    "#     return 1 - cosine(embedding_a, embedding_b)\n"
   ]
  },
  {
   "cell_type": "code",
   "execution_count": null,
   "id": "94c88660",
   "metadata": {},
   "outputs": [],
   "source": []
  },
  {
   "cell_type": "markdown",
   "id": "6ce88ab5",
   "metadata": {},
   "source": [
    "# DEFINE A PIPELINE "
   ]
  },
  {
   "cell_type": "code",
   "execution_count": null,
   "id": "fa5cad67",
   "metadata": {},
   "outputs": [],
   "source": [
    "def similarity_pipeline(a, b):\n",
    "    \n",
    "    a = cleaning_pipeline(a)\n",
    "    b = cleaning_pipeline(b)\n",
    "    \n",
    "    start_time = time.time()\n",
    "    \n",
    "    lev_s = lev_similarity(a, b)\n",
    "    lev_end_time = time.time()\n",
    "    \n",
    "    cos_s = embedding_cosine_similarity(a, b)\n",
    "    cos_end_time = time.time()\n",
    "    \n",
    "    jac_s = jaccard_similarity(a, b)\n",
    "    jac_end_time = time.time()\n",
    "    \n",
    "    bleu_s = sentence_bleu([a.split()], b.split())\n",
    "    \n",
    "    print([lev_s, cos_s, jac_s, bleu_s])\n",
    "    return [lev_s, cos_s, jac_s, bleu_s]"
   ]
  },
  {
   "cell_type": "code",
   "execution_count": null,
   "id": "d67db703",
   "metadata": {},
   "outputs": [],
   "source": [
    "candidate1 = \"It is a guide to action which ensures that the military always obeys the commands of the party.\"\n",
    "candidate2 = \"It is to insure the troops forever hearing the activity guidebook that party direct.\"\n",
    "\n",
    "reference1 = \"It is a guide to action that ensures that the military will forever heed Party commands.\"\n",
    "reference2 = \"It is the guiding principle which guarantees the military forces always being under the command of the Party.\"\n",
    "reference3 = \"It is the practical guide for the army always to heed the directions of the party.\""
   ]
  },
  {
   "cell_type": "code",
   "execution_count": null,
   "id": "8adf97c7",
   "metadata": {
    "scrolled": true
   },
   "outputs": [],
   "source": [
    "similarity_pipeline(reference1, candidate1)\n",
    "similarity_pipeline(reference1, candidate2)\n",
    "similarity_pipeline(reference2, candidate1)\n",
    "similarity_pipeline(reference2, candidate2)"
   ]
  },
  {
   "cell_type": "code",
   "execution_count": null,
   "id": "71d4ef13",
   "metadata": {},
   "outputs": [],
   "source": [
    "from rank_bm25 import BM25Okapi\n",
    "\n",
    "sentence1 = \"This is the first sentence.\"\n",
    "sentence2 = \"This is the second sentence.\"\n",
    "\n",
    "# Tokenize sentences\n",
    "tokens1 = sentence1.split(\" \")\n",
    "tokens2 = sentence2.split(\" \")\n",
    "\n",
    "# Create corpus\n",
    "corpus = [tokens1, tokens2]\n",
    "\n",
    "bm25 = BM25Okapi(corpus)\n",
    "\n",
    "# Use sentence1 as the query\n",
    "query = tokens1\n",
    "\n",
    "scores = bm25.get_scores(query)\n",
    "\n",
    "print(f\"BM25 score for sentence1 vs sentence2: {scores[1]}\")\n"
   ]
  },
  {
   "cell_type": "markdown",
   "id": "1dd8bb6a",
   "metadata": {},
   "source": [
    "# MEDICAL REPORT APPLICATION "
   ]
  },
  {
   "cell_type": "code",
   "execution_count": null,
   "id": "8bba8852",
   "metadata": {},
   "outputs": [],
   "source": [
    "df = pd.read_csv('fake_report_data.csv', index_col=False, header=0)"
   ]
  },
  {
   "cell_type": "code",
   "execution_count": 67,
   "id": "2034aaf4",
   "metadata": {},
   "outputs": [
    {
     "data": {
      "text/html": [
       "<div>\n",
       "<style scoped>\n",
       "    .dataframe tbody tr th:only-of-type {\n",
       "        vertical-align: middle;\n",
       "    }\n",
       "\n",
       "    .dataframe tbody tr th {\n",
       "        vertical-align: top;\n",
       "    }\n",
       "\n",
       "    .dataframe thead th {\n",
       "        text-align: right;\n",
       "    }\n",
       "</style>\n",
       "<table border=\"1\" class=\"dataframe\">\n",
       "  <thead>\n",
       "    <tr style=\"text-align: right;\">\n",
       "      <th></th>\n",
       "      <th>TRUE</th>\n",
       "      <th>PRED</th>\n",
       "      <th>Unnamed: 2</th>\n",
       "    </tr>\n",
       "  </thead>\n",
       "  <tbody>\n",
       "    <tr>\n",
       "      <th>0</th>\n",
       "      <td>Findings\\nThorax\\nThe cardiovascular structure...</td>\n",
       "      <td>Findings\\nThorax\\nNo abnormalities are seen in...</td>\n",
       "      <td>EQUAL</td>\n",
       "    </tr>\n",
       "    <tr>\n",
       "      <th>1</th>\n",
       "      <td>Findings\\nThorax\\nThe cardiovascular structure...</td>\n",
       "      <td>Findings\\nThorax\\nMild atherosclerotic changes...</td>\n",
       "      <td>EQUAL</td>\n",
       "    </tr>\n",
       "    <tr>\n",
       "      <th>2</th>\n",
       "      <td>Thorax\\nThe cardiovascular structures are norm...</td>\n",
       "      <td>Thorax\\nNo abnormalities are seen in the cardi...</td>\n",
       "      <td>EQUAL</td>\n",
       "    </tr>\n",
       "    <tr>\n",
       "      <th>3</th>\n",
       "      <td>Findings\\nThorax\\nThe cardiovascular structure...</td>\n",
       "      <td>Findings\\nThorax\\nNo abnormalities are seen in...</td>\n",
       "      <td>DIFFERENT</td>\n",
       "    </tr>\n",
       "    <tr>\n",
       "      <th>4</th>\n",
       "      <td>Findings\\nThorax\\nThe cardiovascular structure...</td>\n",
       "      <td>Findings\\nThorax\\nThere are signs of mild athe...</td>\n",
       "      <td>DIFFERENT</td>\n",
       "    </tr>\n",
       "    <tr>\n",
       "      <th>5</th>\n",
       "      <td>Findings\\nThorax\\nThe cardiovascular structure...</td>\n",
       "      <td>Findings\\nThorax\\nThe cardiovascular structure...</td>\n",
       "      <td>NaN</td>\n",
       "    </tr>\n",
       "  </tbody>\n",
       "</table>\n",
       "</div>"
      ],
      "text/plain": [
       "                                                TRUE  \\\n",
       "0  Findings\\nThorax\\nThe cardiovascular structure...   \n",
       "1  Findings\\nThorax\\nThe cardiovascular structure...   \n",
       "2  Thorax\\nThe cardiovascular structures are norm...   \n",
       "3  Findings\\nThorax\\nThe cardiovascular structure...   \n",
       "4  Findings\\nThorax\\nThe cardiovascular structure...   \n",
       "5  Findings\\nThorax\\nThe cardiovascular structure...   \n",
       "\n",
       "                                                PRED Unnamed: 2  \n",
       "0  Findings\\nThorax\\nNo abnormalities are seen in...      EQUAL  \n",
       "1  Findings\\nThorax\\nMild atherosclerotic changes...      EQUAL  \n",
       "2  Thorax\\nNo abnormalities are seen in the cardi...      EQUAL  \n",
       "3  Findings\\nThorax\\nNo abnormalities are seen in...  DIFFERENT  \n",
       "4  Findings\\nThorax\\nThere are signs of mild athe...  DIFFERENT  \n",
       "5  Findings\\nThorax\\nThe cardiovascular structure...        NaN  "
      ]
     },
     "execution_count": 67,
     "metadata": {},
     "output_type": "execute_result"
    }
   ],
   "source": [
    "df"
   ]
  },
  {
   "cell_type": "code",
   "execution_count": 76,
   "id": "cbce704d",
   "metadata": {},
   "outputs": [
    {
     "name": "stdout",
     "output_type": "stream",
     "text": [
      "EQUAL\n",
      "[0.4604715672676838, 0.8947369, 0.5324675324675324, 0.1929382969752726]\n",
      "EQUAL\n",
      "[0.4675090252707581, 0.90564114, 0.6071428571428571, 0.28094705625410266]\n",
      "EQUAL\n",
      "[0.5844961240310077, 0.8169365, 0.43333333333333335, 0.11757626897912618]\n",
      "DIFFERENT\n",
      "[0.49767441860465117, 0.9166751, 0.6166666666666667, 0.23724906991717515]\n",
      "DIFFERENT\n",
      "[0.6768982229402262, 0.8081763, 0.35064935064935066, 0.10082904958263218]\n",
      "nan\n",
      "[0.47104851330203446, 0.9259198, 0.6333333333333333, 0.26707268428490344]\n"
     ]
    }
   ],
   "source": [
    "for idx, row in df.iterrows():\n",
    "    print(row[-1])\n",
    "    similarity_pipeline(row['TRUE'], row['PRED'])"
   ]
  },
  {
   "cell_type": "code",
   "execution_count": 79,
   "id": "a6d64cab",
   "metadata": {},
   "outputs": [],
   "source": [
    "a = 'Cardiomegaly is noted with VHS calculated as 11.2, above normal range. Lung fields are clear. The pleural space is normal.'\n",
    "b = 'The heart is normal. Lung fields are clear. The pleural space is normal.'"
   ]
  },
  {
   "cell_type": "code",
   "execution_count": 80,
   "id": "66e67e20",
   "metadata": {},
   "outputs": [
    {
     "name": "stdout",
     "output_type": "stream",
     "text": [
      "[0.449438202247191, 0.7266912, 0.46153846153846156, 0.3784869858133765]\n"
     ]
    },
    {
     "data": {
      "text/plain": [
       "[0.449438202247191, 0.7266912, 0.46153846153846156, 0.3784869858133765]"
      ]
     },
     "execution_count": 80,
     "metadata": {},
     "output_type": "execute_result"
    }
   ],
   "source": [
    "similarity_pipeline(a,b)"
   ]
  },
  {
   "cell_type": "code",
   "execution_count": null,
   "id": "8e7b99fb",
   "metadata": {},
   "outputs": [],
   "source": [
    "#TO DO - INVESTIGATE BM25, BRANDON, AND ENCORE ENSAMBLE? SOMETHING LIKE THAT"
   ]
  }
 ],
 "metadata": {
  "kernelspec": {
   "display_name": "Python 3 (ipykernel)",
   "language": "python",
   "name": "python3"
  },
  "language_info": {
   "codemirror_mode": {
    "name": "ipython",
    "version": 3
   },
   "file_extension": ".py",
   "mimetype": "text/x-python",
   "name": "python",
   "nbconvert_exporter": "python",
   "pygments_lexer": "ipython3",
   "version": "3.9.7"
  }
 },
 "nbformat": 4,
 "nbformat_minor": 5
}
