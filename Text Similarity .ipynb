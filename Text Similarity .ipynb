{
 "cells": [
  {
   "cell_type": "markdown",
   "id": "22d5197f",
   "metadata": {},
   "source": [
    "# Text Comparison Metrics for Modification Detection\n",
    "\n",
    "While NLP and generative AI have seen exponential growth, how to efficiently evaluate the success of such techniques remains widely unexplored in the literature. In the context of text generation, ... Often times, the relevance of text generation is in its content more so than the semantics, however, most solutions focus on n-gram similarity metrics which miss the mark on This is especially true for longer texts of technical nature, where even slight variations in wording may change the meaning in particularly compromising ways. \n",
    "\n",
    "In this notebook, we will explore various metrics to detect and quantify text modifications. These algorithms, born out of the field of Natural Language Processing (NLP) and Machine Learning, can help us understand the degree of similarity or difference between two pieces of text.\n",
    "\n",
    "Below are the metrics we will be covering:\n",
    "\n",
    "1. **Edit Distance (Levenshtein Distance)**: This algorithm computes the minimum number of operations (insertions, deletions, substitutions) required to transform one string into another. \n",
    "\n",
    "2. **Cosine Similarity**: This measure calculates the cosine of the angle between two vectors representing the texts. A cosine value close to 1 implies high similarity. This is often used in combination with TF-IDF or word embeddings. Read more [here](https://en.wikipedia.org/wiki/Cosine_similarity).\n",
    "\n",
    "3. **Jaccard Similarity**: Defined as the size of the intersection divided by the size of the union of the sample sets. It is commonly used to compare the similarity and diversity of sample sets. For more information, refer to [this link](https://en.wikipedia.org/wiki/Jaccard_index).\n",
    "\n",
    "4. **BLEU (Bilingual Evaluation Understudy)**: Initially designed for evaluating machine translation, BLEU can be used for general text comparison. You can read the original [BLEU paper here](https://www.aclweb.org/anthology/P02-1040.pdf).\n",
    "\n",
    "5. **ROUGE (Recall-Oriented Understudy for Gisting Evaluation)**: ROUGE is a set of metrics used for evaluating automatic summarization and machine translation. Read the [original paper](https://www.aclweb.org/anthology/W04-1013.pdf) for more insights.\n",
    "\n",
    "6. **Word Mover's Distance (WMD)**: WMD uses word embeddings to calculate the \"distance\" between two documents. This is described in detail in the [original WMD paper](http://proceedings.mlr.press/v37/kusnerb15.pdf).\n",
    "\n",
    "7. **Semantic Similarity Measures** using transformer models: Models such as BERT, RoBERTa, and others can be used to compute a semantic similarity score between two texts. The [BERT paper](https://arxiv.org/abs/1810.04805) is a good starting point for understanding these models.\n",
    "\n",
    "8. **Cross Encoders**:\n",
    "\n",
    "9. **BM25**:\n",
    "\n",
    "10. **Graph Similarity**:\n",
    "\n",
    "Each of these metrics has its strengths and weaknesses, and the choice depends on the specific requirements of the task at hand. In the upcoming sections of this notebook, we will delve deeper into each of these methods, understand their implementation, and interpret their results. Let's get started!"
   ]
  },
  {
   "cell_type": "code",
   "execution_count": 23,
   "id": "4ad82510",
   "metadata": {
    "scrolled": true
   },
   "outputs": [
    {
     "name": "stdout",
     "output_type": "stream",
     "text": [
      "huggingface/tokenizers: The current process just got forked, after parallelism has already been used. Disabling parallelism to avoid deadlocks...\n",
      "To disable this warning, you can either:\n",
      "\t- Avoid using `tokenizers` before the fork if possible\n",
      "\t- Explicitly set the environment variable TOKENIZERS_PARALLELISM=(true | false)\n",
      "Collecting rank_bm25\n",
      "  Downloading rank_bm25-0.2.2-py3-none-any.whl (8.6 kB)\n",
      "Requirement already satisfied: numpy in /usr/local/lib/python3.8/dist-packages (from rank_bm25) (1.23.1)\n",
      "Installing collected packages: rank_bm25\n",
      "Successfully installed rank_bm25-0.2.2\n",
      "\u001b[33mWARNING: Running pip as the 'root' user can result in broken permissions and conflicting behaviour with the system package manager. It is recommended to use a virtual environment instead: https://pip.pypa.io/warnings/venv\u001b[0m\u001b[33m\n",
      "\u001b[0m"
     ]
    }
   ],
   "source": [
    "# !pip install sentence-transformers\n",
    "# !pip install tensorflow_hub\n",
    "# import os\n",
    "# os.environ['PROTOCOL_BUFFERS_PYTHON_IMPLEMENTATION'] = 'python'\n",
    "!pip install rank_bm25"
   ]
  },
  {
   "cell_type": "code",
   "execution_count": 1,
   "id": "72ca575c",
   "metadata": {},
   "outputs": [
    {
     "name": "stderr",
     "output_type": "stream",
     "text": [
      "2023-06-14 20:09:09.009512: I tensorflow/core/util/util.cc:169] oneDNN custom operations are on. You may see slightly different numerical results due to floating-point round-off errors from different computation orders. To turn them off, set the environment variable `TF_ENABLE_ONEDNN_OPTS=0`.\n",
      "[nltk_data] Downloading package stopwords to /root/nltk_data...\n",
      "[nltk_data]   Package stopwords is already up-to-date!\n"
     ]
    }
   ],
   "source": [
    "import pandas as pd\n",
    "import string\n",
    "from nltk.corpus import stopwords\n",
    "\n",
    "from sentence_transformers import SentenceTransformer\n",
    "from sklearn.metrics.pairwise import cosine_similarity\n",
    "\n",
    "import tensorflow_hub as hub\n",
    "from nltk.translate.bleu_score import sentence_bleu\n",
    "\n",
    "import nltk\n",
    "nltk.download('stopwords')\n",
    "nltk.download('punkt')\n",
    "import time "
   ]
  },
  {
   "cell_type": "markdown",
   "id": "5116edeb",
   "metadata": {},
   "source": [
    "## Text Cleaning \n",
    "\n",
    "To improve performance of similarity algorithms, some propose to remove non-meaningful words from the text, thereby increasing the amount of 'relevant' informaiton compared"
   ]
  },
  {
   "cell_type": "code",
   "execution_count": 2,
   "id": "f8217a36",
   "metadata": {},
   "outputs": [],
   "source": [
    "def remove_punctuations(txt, punct = set(string.punctuation)):\n",
    "    '''\n",
    "    Removes punctuations from a given text.\n",
    "    \n",
    "    Parameters\n",
    "    ----------\n",
    "    txt : str\n",
    "        The input text from which punctuations are to be removed.\n",
    "    punct : set, optional\n",
    "        The set of punctuation characters to be removed. Default is all punctuation characters.\n",
    "    \n",
    "    Returns\n",
    "    -------\n",
    "    str\n",
    "        The input text with all specified punctuation characters removed.\n",
    "    '''\n",
    "    return ''.join([c for c in txt.lower() if c not in punct])\n",
    "\n",
    "  \n",
    "def remove_stopwords(txt, sw = set(stopwords.words('english'))):\n",
    "    '''\n",
    "    Removes stopwords from a given text.\n",
    "    \n",
    "    Parameters\n",
    "    ----------\n",
    "    txt : str\n",
    "        The input text from which stopwords are to be removed.\n",
    "    sw : set, optional\n",
    "        The set of stopwords to be removed. Default is English stopwords from NLTK corpus.\n",
    "    \n",
    "    Returns\n",
    "    -------\n",
    "    str\n",
    "        The input text with all specified stopwords removed.\n",
    "    '''\n",
    "    return ' '.join([w for w in txt.split() if w not in sw])\n",
    "\n",
    "\n",
    "def clean_text(txt):\n",
    "    '''\n",
    "    Cleans a given text by removing specific line feed characters, punctuations and stopwords.\n",
    "    \n",
    "    Parameters\n",
    "    ----------\n",
    "    txt : str\n",
    "        The input text to be cleaned.\n",
    "    \n",
    "    Returns\n",
    "    -------\n",
    "    str\n",
    "        The cleaned text, with line feed characters, punctuations and stopwords removed and converted to lowercase.\n",
    "    '''\n",
    "    txt = txt.replace('\\n', ' ').replace('\\r', ' ').replace('\\'', '')\n",
    "    txt = remove_punctuations(txt)\n",
    "    txt = remove_stopwords(txt)\n",
    "    return txt\n",
    "\n",
    "def cleaning_pipeline(txt):\n",
    "    \n",
    "    txt = remove_punctuations(txt)\n",
    "    txt = remove_stopwords(txt)\n",
    "    txt = clean_text(txt)\n",
    "    return txt"
   ]
  },
  {
   "cell_type": "markdown",
   "id": "0d914190",
   "metadata": {},
   "source": [
    "## 1. Levensthein distance"
   ]
  },
  {
   "attachments": {
    "Screenshot%202023-06-14%20at%2012.17.05%20PM.png": {
     "image/png": "[encoded data removed]"
    }
   },
   "cell_type": "markdown",
   "id": "23a638ab",
   "metadata": {},
   "source": [
    "![Screenshot%202023-06-14%20at%2012.17.05%20PM.png](attachment:Screenshot%202023-06-14%20at%2012.17.05%20PM.png)"
   ]
  },
  {
   "cell_type": "code",
   "execution_count": 3,
   "id": "5b22f648",
   "metadata": {},
   "outputs": [],
   "source": [
    "def direct_lev(a, b):\n",
    "    \"\"\"\n",
    "    Calculates the Levenshtein distance between two strings.\n",
    "    This is the minimum number of single-character edits (insertions, deletions, or substitutions)\n",
    "    required to change string 'a' into string 'b'.\n",
    "    \n",
    "    Parameters\n",
    "    ----------\n",
    "    a : str\n",
    "        The first string to compare.\n",
    "    b : str\n",
    "        The second string to compare.\n",
    "    \n",
    "    Returns\n",
    "    -------\n",
    "    int\n",
    "        The Levenshtein distance between 'a' and 'b'.\n",
    "    \"\"\"\n",
    "    \n",
    "    if len(b) == 0:\n",
    "        return len(a)\n",
    "    elif len(a) == 0:\n",
    "        return len(b)\n",
    "    elif a[0] == b[0]:\n",
    "        return lev(a[1:],b[1:])\n",
    "    else:\n",
    "        return 1 + min([lev(a[1:], b), lev(a, b[1:]), lev(a[1:], b[1:])])\n",
    "    \n",
    "\n",
    "def lev(a, b):\n",
    "    \"\"\"\n",
    "    Calculates the Levenshtein distance between two strings.\n",
    "    This is the minimum number of single-character edits (insertions, deletions, or substitutions)\n",
    "    required to change string 'a' into string 'b'.\n",
    "    \n",
    "    Parameters\n",
    "    ----------\n",
    "    a : str\n",
    "        The first string to compare.\n",
    "    b : str\n",
    "        The second string to compare.\n",
    "    \n",
    "    Returns\n",
    "    -------\n",
    "    int\n",
    "        The Levenshtein distance between 'a' and 'b'.\n",
    "    \"\"\"\n",
    "    size_x = len(a) + 1\n",
    "    size_y = len(b) + 1\n",
    "    matrix = [[0] * size_y for _ in range(size_x)]\n",
    "    for x in range(size_x):\n",
    "        matrix [x][0] = x\n",
    "    for y in range(size_y):\n",
    "        matrix [0][y] = y\n",
    "\n",
    "    for x in range(1, size_x):\n",
    "        for y in range(1, size_y):\n",
    "            if a[x-1] == b[y-1]:\n",
    "                matrix [x][y] = min(\n",
    "                    matrix[x-1][y] + 1,\n",
    "                    matrix[x-1][y-1],\n",
    "                    matrix[x][y-1] + 1\n",
    "                )\n",
    "            else:\n",
    "                matrix [x][y] = min(\n",
    "                    matrix[x-1][y] + 1,\n",
    "                    matrix[x-1][y-1] + 1,\n",
    "                    matrix[x][y-1] + 1\n",
    "                )\n",
    "    return (matrix[size_x - 1][size_y - 1])\n",
    "\n",
    "\n",
    "def lev_similarity(a, b):\n",
    "    n_changes = lev(a, b)\n",
    "    return n_changes/max([len(a), len(b)])"
   ]
  },
  {
   "cell_type": "markdown",
   "id": "bb121dad",
   "metadata": {},
   "source": [
    "## 2. Cosine similarity"
   ]
  },
  {
   "cell_type": "markdown",
   "id": "8759072a",
   "metadata": {},
   "source": [
    "#### Using a Sentence Transformer "
   ]
  },
  {
   "cell_type": "code",
   "execution_count": 4,
   "id": "2fe4a355",
   "metadata": {
    "scrolled": true
   },
   "outputs": [],
   "source": [
    "model_sentence_embedding = SentenceTransformer('all-MiniLM-L6-v2')\n",
    "\n",
    "\n",
    "def embedding_sentence_cosine_similarity(a, b):\n",
    "\n",
    "    # Generate embeddings for two example sentences\n",
    "    embeddings = model_sentence_embedding.encode([a, b])\n",
    "\n",
    "    # Compute cosine similarity\n",
    "    similarity = cosine_similarity(\n",
    "        embeddings[0].reshape(1, -1), \n",
    "        embeddings[1].reshape(1, -1)\n",
    "        )[0][0]\n",
    "    \n",
    "    return similarity "
   ]
  },
  {
   "cell_type": "markdown",
   "id": "d5b3079d",
   "metadata": {},
   "source": [
    "#### Using Google's lightweight encoder "
   ]
  },
  {
   "cell_type": "code",
   "execution_count": 5,
   "id": "1f19a916",
   "metadata": {
    "scrolled": true
   },
   "outputs": [
    {
     "name": "stderr",
     "output_type": "stream",
     "text": [
      "2023-06-14 20:09:26.592105: I tensorflow/stream_executor/cuda/cuda_gpu_executor.cc:975] successful NUMA node read from SysFS had negative value (-1), but there must be at least one NUMA node, so returning NUMA node zero\n",
      "2023-06-14 20:09:26.596662: I tensorflow/stream_executor/cuda/cuda_gpu_executor.cc:975] successful NUMA node read from SysFS had negative value (-1), but there must be at least one NUMA node, so returning NUMA node zero\n",
      "2023-06-14 20:09:26.599333: I tensorflow/stream_executor/cuda/cuda_gpu_executor.cc:975] successful NUMA node read from SysFS had negative value (-1), but there must be at least one NUMA node, so returning NUMA node zero\n",
      "2023-06-14 20:09:26.602306: I tensorflow/core/platform/cpu_feature_guard.cc:193] This TensorFlow binary is optimized with oneAPI Deep Neural Network Library (oneDNN) to use the following CPU instructions in performance-critical operations:  AVX2 AVX512F AVX512_VNNI FMA\n",
      "To enable them in other operations, rebuild TensorFlow with the appropriate compiler flags.\n",
      "2023-06-14 20:09:26.602982: I tensorflow/stream_executor/cuda/cuda_gpu_executor.cc:975] successful NUMA node read from SysFS had negative value (-1), but there must be at least one NUMA node, so returning NUMA node zero\n",
      "2023-06-14 20:09:26.605745: I tensorflow/stream_executor/cuda/cuda_gpu_executor.cc:975] successful NUMA node read from SysFS had negative value (-1), but there must be at least one NUMA node, so returning NUMA node zero\n",
      "2023-06-14 20:09:26.608377: I tensorflow/stream_executor/cuda/cuda_gpu_executor.cc:975] successful NUMA node read from SysFS had negative value (-1), but there must be at least one NUMA node, so returning NUMA node zero\n",
      "2023-06-14 20:09:28.526819: I tensorflow/stream_executor/cuda/cuda_gpu_executor.cc:975] successful NUMA node read from SysFS had negative value (-1), but there must be at least one NUMA node, so returning NUMA node zero\n",
      "2023-06-14 20:09:28.528643: I tensorflow/stream_executor/cuda/cuda_gpu_executor.cc:975] successful NUMA node read from SysFS had negative value (-1), but there must be at least one NUMA node, so returning NUMA node zero\n",
      "2023-06-14 20:09:28.530203: I tensorflow/stream_executor/cuda/cuda_gpu_executor.cc:975] successful NUMA node read from SysFS had negative value (-1), but there must be at least one NUMA node, so returning NUMA node zero\n",
      "2023-06-14 20:09:28.531719: I tensorflow/core/common_runtime/gpu/gpu_device.cc:1532] Created device /job:localhost/replica:0/task:0/device:GPU:0 with 13224 MB memory:  -> device: 0, name: Tesla T4, pci bus id: 0000:00:1e.0, compute capability: 7.5\n"
     ]
    }
   ],
   "source": [
    "\n",
    "# Load the Universal Sentence Encoder's TF Hub module\n",
    "embed = hub.load(\"https://tfhub.dev/google/universal-sentence-encoder/4\")\n",
    "\n",
    "def embedding_cosine_similarity(a, b):\n",
    "    \n",
    "    embeddings = embed([a, b])\n",
    "    return cosine_similarity(embeddings[0:1], embeddings[1:2])[0][0]\n"
   ]
  },
  {
   "cell_type": "markdown",
   "id": "2e33b2e3",
   "metadata": {},
   "source": [
    "## 3. Jaccard"
   ]
  },
  {
   "cell_type": "code",
   "execution_count": 6,
   "id": "1ab9df30",
   "metadata": {},
   "outputs": [],
   "source": [
    "def jaccard_similarity(a, b):\n",
    "    \"\"\"Calculate the Jaccard Similarity between two sentences.\"\"\"\n",
    "    set1 = set(a.split())\n",
    "    set2 = set(b.split())\n",
    "    intersection = len(set1.intersection(set2))\n",
    "    union = len(set1.union(set2))\n",
    "    return intersection / union"
   ]
  },
  {
   "cell_type": "markdown",
   "id": "1b6962dc",
   "metadata": {},
   "source": [
    "## 4. BLEU"
   ]
  },
  {
   "cell_type": "code",
   "execution_count": 40,
   "id": "4ab33b17",
   "metadata": {},
   "outputs": [],
   "source": [
    "# modified n-gram precision\n",
    "def bleu_similarity(a, b):\n",
    "    \"\"\"Calculate the modified n-gram precision between two sentences.\"\"\"\n",
    "    return sentence_bleu([a.split()], b.split())"
   ]
  },
  {
   "cell_type": "markdown",
   "id": "267aa18a",
   "metadata": {},
   "source": [
    "## 5. Sentence embedding: BERT\n",
    "\n",
    "Using this approach we can embed eaxch sentence and compare the whole text as an average of the sentences involved"
   ]
  },
  {
   "cell_type": "code",
   "execution_count": 8,
   "id": "2992758c",
   "metadata": {},
   "outputs": [
    {
     "name": "stderr",
     "output_type": "stream",
     "text": [
      "Some weights of the model checkpoint at bert-base-uncased were not used when initializing BertModel: ['cls.predictions.transform.dense.weight', 'cls.seq_relationship.bias', 'cls.predictions.transform.dense.bias', 'cls.predictions.transform.LayerNorm.weight', 'cls.predictions.bias', 'cls.predictions.transform.LayerNorm.bias', 'cls.seq_relationship.weight']\n",
      "- This IS expected if you are initializing BertModel from the checkpoint of a model trained on another task or with another architecture (e.g. initializing a BertForSequenceClassification model from a BertForPreTraining model).\n",
      "- This IS NOT expected if you are initializing BertModel from the checkpoint of a model that you expect to be exactly identical (initializing a BertForSequenceClassification model from a BertForSequenceClassification model).\n"
     ]
    }
   ],
   "source": [
    "from transformers import BertModel, BertTokenizer\n",
    "import torch\n",
    "from scipy.spatial.distance import cosine\n",
    "\n",
    "bert_tokenizer = BertTokenizer.from_pretrained('bert-base-uncased')\n",
    "bert_model = BertModel.from_pretrained('bert-base-uncased')\n",
    "\n",
    "def embedding_bert_similarity(a, b):\n",
    "    \n",
    "    inputs_a = bert_tokenizer(a, return_tensors='pt')\n",
    "    inputs_b = bert_tokenizer(b, return_tensors='pt')\n",
    "    \n",
    "    with torch.no_grad():\n",
    "        outputs_a = bert_model(**inputs_a)\n",
    "        outputs_b = bert_model(**inputs_b)\n",
    "        \n",
    "    embedding_a = outputs_a.last_hidden_state[0, 0, :].numpy()\n",
    "    embedding_b = outputs_b.last_hidden_state[0, 0, :].numpy()\n",
    "    \n",
    "    return 1 - cosine(embedding_a, embedding_b)"
   ]
  },
  {
   "cell_type": "markdown",
   "id": "d1946681",
   "metadata": {},
   "source": [
    "## 6. BM25"
   ]
  },
  {
   "cell_type": "code",
   "execution_count": 35,
   "id": "385b66dc",
   "metadata": {},
   "outputs": [],
   "source": [
    "from rank_bm25 import BM25Okapi\n",
    "\n",
    "def bm_25_smiliarity(a, b):\n",
    "    # Tokenize sentences\n",
    "    tokens1 = a.split(\" \")\n",
    "    tokens2 = b.split(\" \")\n",
    "\n",
    "    # Create corpus\n",
    "    corpus = [tokens1, tokens2]\n",
    "    bm25 = BM25Okapi(corpus)\n",
    "\n",
    "    # Use sentence1 as the query\n",
    "    query = tokens1\n",
    "\n",
    "    scores = bm25.get_scores(query)\n",
    "    return scores[1]"
   ]
  },
  {
   "cell_type": "markdown",
   "id": "82bc2f64",
   "metadata": {},
   "source": [
    "## 7. CrossEncoders\n",
    "Cross Encoders are not sentence based. "
   ]
  },
  {
   "cell_type": "code",
   "execution_count": 78,
   "id": "54a488fc",
   "metadata": {
    "collapsed": true
   },
   "outputs": [
    {
     "data": {
      "application/vnd.jupyter.widget-view+json": {
       "model_id": "98ed0402b50243339292a7241e28f163",
       "version_major": 2,
       "version_minor": 0
      },
      "text/plain": [
       "Downloading (…)lve/main/config.json:   0%|          | 0.00/607 [00:00<?, ?B/s]"
      ]
     },
     "metadata": {},
     "output_type": "display_data"
    },
    {
     "data": {
      "application/vnd.jupyter.widget-view+json": {
       "model_id": "d61bdfb01ab945869fc033a29836d2b9",
       "version_major": 2,
       "version_minor": 0
      },
      "text/plain": [
       "Downloading pytorch_model.bin:   0%|          | 0.00/329M [00:00<?, ?B/s]"
      ]
     },
     "metadata": {},
     "output_type": "display_data"
    },
    {
     "data": {
      "application/vnd.jupyter.widget-view+json": {
       "model_id": "4d8b9b1c78b44885b0af23f7321cc649",
       "version_major": 2,
       "version_minor": 0
      },
      "text/plain": [
       "Downloading (…)okenizer_config.json:   0%|          | 0.00/148 [00:00<?, ?B/s]"
      ]
     },
     "metadata": {},
     "output_type": "display_data"
    },
    {
     "data": {
      "application/vnd.jupyter.widget-view+json": {
       "model_id": "231a3992a02e4d1980a58c659c3d7b1a",
       "version_major": 2,
       "version_minor": 0
      },
      "text/plain": [
       "Downloading (…)olve/main/vocab.json:   0%|          | 0.00/899k [00:00<?, ?B/s]"
      ]
     },
     "metadata": {},
     "output_type": "display_data"
    },
    {
     "data": {
      "application/vnd.jupyter.widget-view+json": {
       "model_id": "5631555db18940e2aa7f1d610470effa",
       "version_major": 2,
       "version_minor": 0
      },
      "text/plain": [
       "Downloading (…)olve/main/merges.txt:   0%|          | 0.00/456k [00:00<?, ?B/s]"
      ]
     },
     "metadata": {},
     "output_type": "display_data"
    },
    {
     "data": {
      "application/vnd.jupyter.widget-view+json": {
       "model_id": "02f4eac9857540dba066a30ea5e236bd",
       "version_major": 2,
       "version_minor": 0
      },
      "text/plain": [
       "Downloading (…)cial_tokens_map.json:   0%|          | 0.00/772 [00:00<?, ?B/s]"
      ]
     },
     "metadata": {},
     "output_type": "display_data"
    }
   ],
   "source": [
    "from sentence_transformers.cross_encoder import CrossEncoder\n",
    "\n",
    "# Pre-trained cross encoder\n",
    "model_crossencoder = CrossEncoder('cross-encoder/stsb-distilroberta-base')\n",
    "\n",
    "def crossencoder_similarity(a, b):\n",
    "    \n",
    "    similarity_score = model_crossencoder.predict([a, b])\n",
    "    \n",
    "    return similarity_score"
   ]
  },
  {
   "cell_type": "markdown",
   "id": "cf233032",
   "metadata": {},
   "source": [
    "# PIPELINE"
   ]
  },
  {
   "cell_type": "code",
   "execution_count": 103,
   "id": "fb2c6065",
   "metadata": {},
   "outputs": [],
   "source": [
    "import time\n",
    "import numpy as np\n",
    "import itertools\n",
    "\n",
    "def uni_sentence_similairty(a, b, display_results=True):\n",
    "    a = cleaning_pipeline(a)\n",
    "    b = cleaning_pipeline(b)\n",
    "\n",
    "    start_time = time.time()\n",
    "\n",
    "    lev_s = lev_similarity(a, b)\n",
    "    lev_end_time = time.time()\n",
    "\n",
    "    cos_sen_s = embedding_sentence_cosine_similarity(a, b)\n",
    "    cos_s_end_time = time.time()\n",
    "\n",
    "    cos_s = embedding_cosine_similarity(a, b)\n",
    "    cos_end_time = time.time()\n",
    "\n",
    "    jac_s = jaccard_similarity(a, b)\n",
    "    jac_end_time = time.time()\n",
    "\n",
    "    bleu_s = bleu_similarity(a, b)\n",
    "    bleu_end_time = time.time()\n",
    "\n",
    "    bert_s = embedding_bert_similarity(a, b)\n",
    "    bert_end_time = time.time()\n",
    "\n",
    "    bm25_s = bm_25_smiliarity(a, b)\n",
    "    bm25_end_time = time.time()\n",
    "    \n",
    "    cre_s = crossencoder_similarity(a, b)\n",
    "    cre_s_end_time = time.time()\n",
    "\n",
    "    if display_results == True:\n",
    "        print(f\"Levenshtein Similarity: {lev_s}, Time Taken: {lev_end_time - start_time} seconds\")\n",
    "        print(f\"Cosine Similarity: {cos_sen_s}, Time Taken: {cos_s_end_time - lev_end_time} seconds\")\n",
    "        print(f\"GOOGLE Cosine Similarity: {cos_s}, Time Taken: {cos_end_time - cos_s_end_time} seconds\")\n",
    "        print(f\"Jaccard Similarity: {jac_s}, Time Taken: {jac_end_time - cos_end_time} seconds\")\n",
    "        print(f\"BLEU Score: {bleu_s}, Time Taken: {bleu_end_time - jac_end_time} seconds\")\n",
    "        print(f\"BERT Score: {bert_s}, Time Taken: {bert_end_time - bleu_end_time} seconds\")\n",
    "        print(f\"BM25 Score: {bm25_s}, Time Taken: {bm25_end_time - bert_end_time} seconds\")\n",
    "        print(f\"Cross Encoder Score: {cre_s}, Time Taken: {cre_s_end_time - bm25_end_time} seconds\")\n",
    "    \n",
    "    return [lev_s, cos_sen_s, cos_s, jac_s, bleu_s, bert_s, bm25_s, cre_s]\n",
    "\n",
    "def similarity_pipeline(a, b, split_sentences = True, display_results = False):\n",
    "    \n",
    "    if split_sentences == True: \n",
    "        sim = []\n",
    "        a_sentences = nltk.sent_tokenize(a)\n",
    "        b_sentences = nltk.sent_tokenize(b)\n",
    "        \n",
    "        for a_x in a_sentences:\n",
    "            sim_max = -np.inf \n",
    "            sim_x = []\n",
    "            for b_x in b_sentences:\n",
    "                sim_x.append(uni_sentence_similairty(a_x, b_x, display_results))\n",
    "            \n",
    "            sim.append(sim_x)\n",
    "                \n",
    "#         for a_x, b_x in itertools.product(a_sentences, b_sentences):\n",
    "#             print(a_x, b_x)\n",
    "#             sim_x = uni_sentence_similairty(a_x, b_x, display_results)\n",
    "#             sim.append(sim_x)\n",
    "    else:\n",
    "        sim = uni_sentence_similairty(a, b, display_results)\n",
    "\n",
    "    return np.array(sim)\n"
   ]
  },
  {
   "cell_type": "code",
   "execution_count": 106,
   "id": "71792cbd",
   "metadata": {},
   "outputs": [
    {
     "name": "stderr",
     "output_type": "stream",
     "text": [
      "/usr/local/lib/python3.8/dist-packages/nltk/translate/bleu_score.py:552: UserWarning: \n",
      "The hypothesis contains 0 counts of 3-gram overlaps.\n",
      "Therefore the BLEU score evaluates to 0, independently of\n",
      "how many N-gram overlaps of lower order it contains.\n",
      "Consider using lower n-gram order or use SmoothingFunction()\n",
      "  warnings.warn(_msg)\n",
      "/usr/local/lib/python3.8/dist-packages/nltk/translate/bleu_score.py:552: UserWarning: \n",
      "The hypothesis contains 0 counts of 4-gram overlaps.\n",
      "Therefore the BLEU score evaluates to 0, independently of\n",
      "how many N-gram overlaps of lower order it contains.\n",
      "Consider using lower n-gram order or use SmoothingFunction()\n",
      "  warnings.warn(_msg)\n"
     ]
    },
    {
     "data": {
      "text/plain": [
       "array([ 4.21052632e-001,  8.77490878e-001,  7.88602114e-001,\n",
       "        6.66666667e-001,  1.13342269e-154,  9.45505321e-001,\n",
       "       -4.92182848e-001,  8.87399912e-001])"
      ]
     },
     "execution_count": 106,
     "metadata": {},
     "output_type": "execute_result"
    }
   ],
   "source": [
    "# Example usage - 1 sentence \n",
    "a = \"This is a sample text.\"\n",
    "b = \"This is another sample text.\"\n",
    "x = similarity_pipeline(a, b, split_sentences = False, display_results = False)\n",
    "x"
   ]
  },
  {
   "cell_type": "code",
   "execution_count": 107,
   "id": "e21a748a",
   "metadata": {
    "scrolled": true
   },
   "outputs": [
    {
     "name": "stderr",
     "output_type": "stream",
     "text": [
      "/usr/local/lib/python3.8/dist-packages/nltk/translate/bleu_score.py:552: UserWarning: \n",
      "The hypothesis contains 0 counts of 2-gram overlaps.\n",
      "Therefore the BLEU score evaluates to 0, independently of\n",
      "how many N-gram overlaps of lower order it contains.\n",
      "Consider using lower n-gram order or use SmoothingFunction()\n",
      "  warnings.warn(_msg)\n",
      "/usr/local/lib/python3.8/dist-packages/nltk/translate/bleu_score.py:552: UserWarning: \n",
      "The hypothesis contains 0 counts of 3-gram overlaps.\n",
      "Therefore the BLEU score evaluates to 0, independently of\n",
      "how many N-gram overlaps of lower order it contains.\n",
      "Consider using lower n-gram order or use SmoothingFunction()\n",
      "  warnings.warn(_msg)\n",
      "/usr/local/lib/python3.8/dist-packages/nltk/translate/bleu_score.py:552: UserWarning: \n",
      "The hypothesis contains 0 counts of 4-gram overlaps.\n",
      "Therefore the BLEU score evaluates to 0, independently of\n",
      "how many N-gram overlaps of lower order it contains.\n",
      "Consider using lower n-gram order or use SmoothingFunction()\n",
      "  warnings.warn(_msg)\n",
      "/usr/local/lib/python3.8/dist-packages/nltk/translate/bleu_score.py:552: UserWarning: \n",
      "The hypothesis contains 0 counts of 2-gram overlaps.\n",
      "Therefore the BLEU score evaluates to 0, independently of\n",
      "how many N-gram overlaps of lower order it contains.\n",
      "Consider using lower n-gram order or use SmoothingFunction()\n",
      "  warnings.warn(_msg)\n",
      "/usr/local/lib/python3.8/dist-packages/nltk/translate/bleu_score.py:552: UserWarning: \n",
      "The hypothesis contains 0 counts of 3-gram overlaps.\n",
      "Therefore the BLEU score evaluates to 0, independently of\n",
      "how many N-gram overlaps of lower order it contains.\n",
      "Consider using lower n-gram order or use SmoothingFunction()\n",
      "  warnings.warn(_msg)\n",
      "/usr/local/lib/python3.8/dist-packages/nltk/translate/bleu_score.py:552: UserWarning: \n",
      "The hypothesis contains 0 counts of 4-gram overlaps.\n",
      "Therefore the BLEU score evaluates to 0, independently of\n",
      "how many N-gram overlaps of lower order it contains.\n",
      "Consider using lower n-gram order or use SmoothingFunction()\n",
      "  warnings.warn(_msg)\n"
     ]
    },
    {
     "name": "stdout",
     "output_type": "stream",
     "text": [
      "\n",
      "\n"
     ]
    },
    {
     "name": "stderr",
     "output_type": "stream",
     "text": [
      "/usr/local/lib/python3.8/dist-packages/nltk/translate/bleu_score.py:552: UserWarning: \n",
      "The hypothesis contains 0 counts of 2-gram overlaps.\n",
      "Therefore the BLEU score evaluates to 0, independently of\n",
      "how many N-gram overlaps of lower order it contains.\n",
      "Consider using lower n-gram order or use SmoothingFunction()\n",
      "  warnings.warn(_msg)\n",
      "/usr/local/lib/python3.8/dist-packages/nltk/translate/bleu_score.py:552: UserWarning: \n",
      "The hypothesis contains 0 counts of 3-gram overlaps.\n",
      "Therefore the BLEU score evaluates to 0, independently of\n",
      "how many N-gram overlaps of lower order it contains.\n",
      "Consider using lower n-gram order or use SmoothingFunction()\n",
      "  warnings.warn(_msg)\n",
      "/usr/local/lib/python3.8/dist-packages/nltk/translate/bleu_score.py:552: UserWarning: \n",
      "The hypothesis contains 0 counts of 4-gram overlaps.\n",
      "Therefore the BLEU score evaluates to 0, independently of\n",
      "how many N-gram overlaps of lower order it contains.\n",
      "Consider using lower n-gram order or use SmoothingFunction()\n",
      "  warnings.warn(_msg)\n",
      "/usr/local/lib/python3.8/dist-packages/nltk/translate/bleu_score.py:552: UserWarning: \n",
      "The hypothesis contains 0 counts of 2-gram overlaps.\n",
      "Therefore the BLEU score evaluates to 0, independently of\n",
      "how many N-gram overlaps of lower order it contains.\n",
      "Consider using lower n-gram order or use SmoothingFunction()\n",
      "  warnings.warn(_msg)\n",
      "/usr/local/lib/python3.8/dist-packages/nltk/translate/bleu_score.py:552: UserWarning: \n",
      "The hypothesis contains 0 counts of 3-gram overlaps.\n",
      "Therefore the BLEU score evaluates to 0, independently of\n",
      "how many N-gram overlaps of lower order it contains.\n",
      "Consider using lower n-gram order or use SmoothingFunction()\n",
      "  warnings.warn(_msg)\n",
      "/usr/local/lib/python3.8/dist-packages/nltk/translate/bleu_score.py:552: UserWarning: \n",
      "The hypothesis contains 0 counts of 4-gram overlaps.\n",
      "Therefore the BLEU score evaluates to 0, independently of\n",
      "how many N-gram overlaps of lower order it contains.\n",
      "Consider using lower n-gram order or use SmoothingFunction()\n",
      "  warnings.warn(_msg)\n",
      "/usr/local/lib/python3.8/dist-packages/nltk/translate/bleu_score.py:552: UserWarning: \n",
      "The hypothesis contains 0 counts of 4-gram overlaps.\n",
      "Therefore the BLEU score evaluates to 0, independently of\n",
      "how many N-gram overlaps of lower order it contains.\n",
      "Consider using lower n-gram order or use SmoothingFunction()\n",
      "  warnings.warn(_msg)\n"
     ]
    },
    {
     "name": "stdout",
     "output_type": "stream",
     "text": [
      "\n",
      "\n"
     ]
    },
    {
     "name": "stderr",
     "output_type": "stream",
     "text": [
      "/usr/local/lib/python3.8/dist-packages/nltk/translate/bleu_score.py:552: UserWarning: \n",
      "The hypothesis contains 0 counts of 4-gram overlaps.\n",
      "Therefore the BLEU score evaluates to 0, independently of\n",
      "how many N-gram overlaps of lower order it contains.\n",
      "Consider using lower n-gram order or use SmoothingFunction()\n",
      "  warnings.warn(_msg)\n",
      "/usr/local/lib/python3.8/dist-packages/nltk/translate/bleu_score.py:552: UserWarning: \n",
      "The hypothesis contains 0 counts of 2-gram overlaps.\n",
      "Therefore the BLEU score evaluates to 0, independently of\n",
      "how many N-gram overlaps of lower order it contains.\n",
      "Consider using lower n-gram order or use SmoothingFunction()\n",
      "  warnings.warn(_msg)\n",
      "/usr/local/lib/python3.8/dist-packages/nltk/translate/bleu_score.py:552: UserWarning: \n",
      "The hypothesis contains 0 counts of 3-gram overlaps.\n",
      "Therefore the BLEU score evaluates to 0, independently of\n",
      "how many N-gram overlaps of lower order it contains.\n",
      "Consider using lower n-gram order or use SmoothingFunction()\n",
      "  warnings.warn(_msg)\n",
      "/usr/local/lib/python3.8/dist-packages/nltk/translate/bleu_score.py:552: UserWarning: \n",
      "The hypothesis contains 0 counts of 4-gram overlaps.\n",
      "Therefore the BLEU score evaluates to 0, independently of\n",
      "how many N-gram overlaps of lower order it contains.\n",
      "Consider using lower n-gram order or use SmoothingFunction()\n",
      "  warnings.warn(_msg)\n",
      "/usr/local/lib/python3.8/dist-packages/nltk/translate/bleu_score.py:552: UserWarning: \n",
      "The hypothesis contains 0 counts of 2-gram overlaps.\n",
      "Therefore the BLEU score evaluates to 0, independently of\n",
      "how many N-gram overlaps of lower order it contains.\n",
      "Consider using lower n-gram order or use SmoothingFunction()\n",
      "  warnings.warn(_msg)\n",
      "/usr/local/lib/python3.8/dist-packages/nltk/translate/bleu_score.py:552: UserWarning: \n",
      "The hypothesis contains 0 counts of 3-gram overlaps.\n",
      "Therefore the BLEU score evaluates to 0, independently of\n",
      "how many N-gram overlaps of lower order it contains.\n",
      "Consider using lower n-gram order or use SmoothingFunction()\n",
      "  warnings.warn(_msg)\n",
      "/usr/local/lib/python3.8/dist-packages/nltk/translate/bleu_score.py:552: UserWarning: \n",
      "The hypothesis contains 0 counts of 4-gram overlaps.\n",
      "Therefore the BLEU score evaluates to 0, independently of\n",
      "how many N-gram overlaps of lower order it contains.\n",
      "Consider using lower n-gram order or use SmoothingFunction()\n",
      "  warnings.warn(_msg)\n",
      "/usr/local/lib/python3.8/dist-packages/nltk/translate/bleu_score.py:552: UserWarning: \n",
      "The hypothesis contains 0 counts of 4-gram overlaps.\n",
      "Therefore the BLEU score evaluates to 0, independently of\n",
      "how many N-gram overlaps of lower order it contains.\n",
      "Consider using lower n-gram order or use SmoothingFunction()\n",
      "  warnings.warn(_msg)\n"
     ]
    },
    {
     "data": {
      "text/plain": [
       "array([[[ 0.00000000e+000,  1.00000000e+000,  1.00000000e+000,\n",
       "          1.00000000e+000,  1.22133867e-077,  1.00000000e+000,\n",
       "         -1.20707843e+000,  9.90040720e-001],\n",
       "        [ 7.44680851e-001,  5.28863311e-001,  4.38585788e-001,\n",
       "          1.11111111e-001,  1.12004072e-231,  7.91034818e-001,\n",
       "         -3.78869565e-002,  2.93516010e-001]],\n",
       "\n",
       "       [[ 8.42105263e-001,  4.74152446e-001,  3.68742734e-001,\n",
       "          2.00000000e-001,  1.38429296e-231,  9.13890481e-001,\n",
       "         -8.04718956e-002,  3.70526135e-001],\n",
       "        [ 5.95744681e-001,  7.83289433e-001,  7.02412426e-001,\n",
       "          4.28571429e-001,  5.02133385e-078,  7.71704555e-001,\n",
       "         -4.38406211e-001,  6.70229435e-001]]])"
      ]
     },
     "execution_count": 107,
     "metadata": {},
     "output_type": "execute_result"
    }
   ],
   "source": [
    "# Example usage - Multiple sentences\n",
    "a = \"This is a heart tumor. Thoracic mass in the left ventricle. Smooth cardiac boundaries.\"\n",
    "b = \"The heart looks normal. The margins of the heart are round\"\n",
    "c = \"The heart looks not normal. The margins of the heart are not round, there appears to be a mass in the left ventricle.\"\n",
    "\n",
    "similarity_pipeline(a, b)\n",
    "print('\\n')\n",
    "similarity_pipeline(a, c)\n",
    "print('\\n')\n",
    "similarity_pipeline(b, c)"
   ]
  },
  {
   "cell_type": "markdown",
   "id": "05de09a3",
   "metadata": {},
   "source": [
    "# FAKE MEDICAL REPORT APPLICATION "
   ]
  },
  {
   "cell_type": "code",
   "execution_count": 14,
   "id": "0b9b5549",
   "metadata": {},
   "outputs": [],
   "source": [
    "df = pd.read_csv('fake_report_data.csv', index_col=False, header=0)"
   ]
  },
  {
   "cell_type": "code",
   "execution_count": 15,
   "id": "acf5eb0e",
   "metadata": {},
   "outputs": [
    {
     "data": {
      "text/html": [
       "<div>\n",
       "<style scoped>\n",
       "    .dataframe tbody tr th:only-of-type {\n",
       "        vertical-align: middle;\n",
       "    }\n",
       "\n",
       "    .dataframe tbody tr th {\n",
       "        vertical-align: top;\n",
       "    }\n",
       "\n",
       "    .dataframe thead th {\n",
       "        text-align: right;\n",
       "    }\n",
       "</style>\n",
       "<table border=\"1\" class=\"dataframe\">\n",
       "  <thead>\n",
       "    <tr style=\"text-align: right;\">\n",
       "      <th></th>\n",
       "      <th>TRUE</th>\n",
       "      <th>PRED</th>\n",
       "      <th>Unnamed: 2</th>\n",
       "    </tr>\n",
       "  </thead>\n",
       "  <tbody>\n",
       "    <tr>\n",
       "      <th>0</th>\n",
       "      <td>Findings\\nThorax\\nThe cardiovascular structure...</td>\n",
       "      <td>Findings\\nThorax\\nNo abnormalities are seen in...</td>\n",
       "      <td>EQUAL</td>\n",
       "    </tr>\n",
       "    <tr>\n",
       "      <th>1</th>\n",
       "      <td>Findings\\nThorax\\nThe cardiovascular structure...</td>\n",
       "      <td>Findings\\nThorax\\nMild atherosclerotic changes...</td>\n",
       "      <td>EQUAL</td>\n",
       "    </tr>\n",
       "    <tr>\n",
       "      <th>2</th>\n",
       "      <td>Thorax\\nThe cardiovascular structures are norm...</td>\n",
       "      <td>Thorax\\nNo abnormalities are seen in the cardi...</td>\n",
       "      <td>EQUAL</td>\n",
       "    </tr>\n",
       "    <tr>\n",
       "      <th>3</th>\n",
       "      <td>Findings\\nThorax\\nThe cardiovascular structure...</td>\n",
       "      <td>Findings\\nThorax\\nNo abnormalities are seen in...</td>\n",
       "      <td>DIFFERENT</td>\n",
       "    </tr>\n",
       "    <tr>\n",
       "      <th>4</th>\n",
       "      <td>Findings\\nThorax\\nThe cardiovascular structure...</td>\n",
       "      <td>Findings\\nThorax\\nThere are signs of mild athe...</td>\n",
       "      <td>DIFFERENT</td>\n",
       "    </tr>\n",
       "    <tr>\n",
       "      <th>5</th>\n",
       "      <td>Findings\\nThorax\\nThe cardiovascular structure...</td>\n",
       "      <td>Findings\\nThorax\\nThe cardiovascular structure...</td>\n",
       "      <td>NaN</td>\n",
       "    </tr>\n",
       "  </tbody>\n",
       "</table>\n",
       "</div>"
      ],
      "text/plain": [
       "                                                TRUE  \\\n",
       "0  Findings\\nThorax\\nThe cardiovascular structure...   \n",
       "1  Findings\\nThorax\\nThe cardiovascular structure...   \n",
       "2  Thorax\\nThe cardiovascular structures are norm...   \n",
       "3  Findings\\nThorax\\nThe cardiovascular structure...   \n",
       "4  Findings\\nThorax\\nThe cardiovascular structure...   \n",
       "5  Findings\\nThorax\\nThe cardiovascular structure...   \n",
       "\n",
       "                                                PRED Unnamed: 2  \n",
       "0  Findings\\nThorax\\nNo abnormalities are seen in...      EQUAL  \n",
       "1  Findings\\nThorax\\nMild atherosclerotic changes...      EQUAL  \n",
       "2  Thorax\\nNo abnormalities are seen in the cardi...      EQUAL  \n",
       "3  Findings\\nThorax\\nNo abnormalities are seen in...  DIFFERENT  \n",
       "4  Findings\\nThorax\\nThere are signs of mild athe...  DIFFERENT  \n",
       "5  Findings\\nThorax\\nThe cardiovascular structure...        NaN  "
      ]
     },
     "execution_count": 15,
     "metadata": {},
     "output_type": "execute_result"
    }
   ],
   "source": [
    "df"
   ]
  },
  {
   "cell_type": "code",
   "execution_count": 114,
   "id": "db5f5aaf",
   "metadata": {},
   "outputs": [
    {
     "name": "stdout",
     "output_type": "stream",
     "text": [
      "\n",
      " EQUAL\n",
      "\n",
      " EQUAL\n",
      "\n",
      " EQUAL\n",
      "\n",
      " DIFFERENT\n",
      "\n",
      " DIFFERENT\n",
      "\n",
      " nan\n"
     ]
    }
   ],
   "source": [
    "# Applying them brutally over the text \n",
    "similar = np.empty((len(df), 8))\n",
    "for idx, row in df.iterrows():\n",
    "    print('\\n', row[-1])\n",
    "    similar[idx, :] = similarity_pipeline(row['TRUE'], row['PRED'], split_sentences = False)"
   ]
  },
  {
   "cell_type": "code",
   "execution_count": 117,
   "id": "efe29084",
   "metadata": {},
   "outputs": [
    {
     "data": {
      "text/plain": [
       "array([0.81041449, 0.92835915, 0.93322247, 0.96450269, 0.8841728 ,\n",
       "       0.9652704 ])"
      ]
     },
     "execution_count": 117,
     "metadata": {},
     "output_type": "execute_result"
    }
   ],
   "source": [
    "similar[:, 7]"
   ]
  },
  {
   "cell_type": "code",
   "execution_count": null,
   "id": "813a1122",
   "metadata": {},
   "outputs": [],
   "source": []
  }
 ],
 "metadata": {
  "kernelspec": {
   "display_name": "Python 3 (ipykernel)",
   "language": "python",
   "name": "python3"
  },
  "language_info": {
   "codemirror_mode": {
    "name": "ipython",
    "version": 3
   },
   "file_extension": ".py",
   "mimetype": "text/x-python",
   "name": "python",
   "nbconvert_exporter": "python",
   "pygments_lexer": "ipython3",
   "version": "3.8.10"
  }
 },
 "nbformat": 4,
 "nbformat_minor": 5
}
